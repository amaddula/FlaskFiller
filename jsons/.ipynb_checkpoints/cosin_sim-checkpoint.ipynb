{
 "cells": [
  {
   "cell_type": "code",
   "execution_count": 1,
   "metadata": {
    "collapsed": true
   },
   "outputs": [],
   "source": [
    "#cossine similarity"
   ]
  },
  {
   "cell_type": "code",
   "execution_count": 91,
   "metadata": {
    "collapsed": true
   },
   "outputs": [],
   "source": [
    "import pickle\n",
    "\n",
    "import json\n",
    "from collections import OrderedDict\n",
    "from collections import Counter\n",
    "import math\n",
    "import numpy as np"
   ]
  },
  {
   "cell_type": "code",
   "execution_count": 92,
   "metadata": {
    "collapsed": false
   },
   "outputs": [],
   "source": [
    "with open('cossim_decimals.json', 'r') as fr:\n",
    "    drinks_dict = json.load(fr)\n",
    "\n",
    "n_drinks = 2314\n",
    "ids_names = {}\n",
    "def build_inverted_index(drinks_dict):\n",
    "    inverted_index = OrderedDict()\n",
    "    id_counter = 0\n",
    "    for drink in drinks_dict:\n",
    "        drink_name = drink\n",
    "        ids_names[id_counter] = drink_name\n",
    "#         if \"Widow Woods\" in drink_name:\n",
    "#             print(id_counter)\n",
    "        drink_ings_list = drinks_dict[drink_name]\n",
    "        for ingredient in drink_ings_list:\n",
    "            ing_name = ingredient[0]\n",
    "            ing_amt = ingredient[1]\n",
    "#             if \"Widow Woods\" in drink_name:\n",
    "#                 print(ing_name)\n",
    "#                 print(ing_amt)\n",
    "            if ing_name in inverted_index:\n",
    "                inverted_index[ing_name].append((id_counter, ing_amt))\n",
    "            else:\n",
    "                inverted_index[ing_name] = [(id_counter, ing_amt)]\n",
    "        id_counter += 1\n",
    "    return inverted_index"
   ]
  },
  {
   "cell_type": "code",
   "execution_count": 93,
   "metadata": {
    "collapsed": true
   },
   "outputs": [],
   "source": [
    "def compute_idf(inv_idx, n_drinks):\n",
    "    idf = defaultdict()\n",
    "    for key in inv_idx:\n",
    "        #print key\n",
    "        num_docs_key = len(inv_idx[key])\n",
    "        idf[key] = math.log((n_drinks/(1.0+num_docs_key)), 2)\n",
    "    return idf"
   ]
  },
  {
   "cell_type": "code",
   "execution_count": 105,
   "metadata": {
    "collapsed": true
   },
   "outputs": [],
   "source": [
    "# def compute_drink_norms(index, idf, n_drinks):\n",
    "def compute_drink_norms(index, n_drinks):\n",
    "    norms = np.zeros(n_drinks)\n",
    "    #print len(index)\n",
    "    #print n_drinks\n",
    "    for ingredient in index:\n",
    "        for tup in index[ingredient]:\n",
    "            if 974== tup[0]:\n",
    "                print (tup)\n",
    "#               norms[tup[0]] += np.power((tup[1] * idf[ingredient]), 2)\n",
    "            norms[tup[0]] += np.power((tup[1]), 2)\n",
    "    return np.sqrt(norms)"
   ]
  },
  {
   "cell_type": "code",
   "execution_count": 110,
   "metadata": {
    "collapsed": true
   },
   "outputs": [],
   "source": [
    "# def index_search(query, index, idf, doc_norms):\n",
    "def index_search(query, index, doc_norms):\n",
    "\n",
    "    q = query\n",
    "    q_norm = 0.0\n",
    "    results = []\n",
    "    drink_scores = {}\n",
    "    for ing in q:\n",
    "#         if ing in idf:\n",
    "#             q = idf[ing]*10\n",
    "        q_norm += 1\n",
    "        for tup in index[ing]:\n",
    "#             d = idf[ing] * (tup[1]*10)\n",
    "            d = (tup[1])\n",
    "            if tup[0] in drink_scores:\n",
    "                drink_scores[tup[0]] += d\n",
    "            else:\n",
    "                drink_scores[tup[0]] = d \n",
    "    q_norm = math.sqrt(q_norm)\n",
    "    for drink_id in drink_scores:\n",
    "        drink_scores[drink_id] /= (1+q_norm*drink_scores[drink_id])\n",
    "    sorted_drinks = sorted(drink_scores, key=lambda x:drink_scores[x], reverse=True)\n",
    "    for drink in sorted_drinks:\n",
    "        results.append((drink_scores[drink], ids_names[drink]))\n",
    "    return results"
   ]
  },
  {
   "cell_type": "code",
   "execution_count": 111,
   "metadata": {
    "collapsed": false
   },
   "outputs": [
    {
     "name": "stdout",
     "output_type": "stream",
     "text": [
      "974\n",
      "Scotch\n",
      "2.0\n",
      "Dark Creme de Cacao\n",
      "0.5\n",
      "Milk\n",
      "4.0\n",
      "(974, 4.0)\n",
      "(974, 0.5)\n",
      "(974, 2.0)\n",
      "[(90, 0.25), (218, 0.3333333333333333), (222, 0.5), (742, 1.5), (923, 1.0), (974, 0.5), (1035, 0.5), (1299, 0.25), (1364, 0.5), (1520, 0.5), (1553, 1.5), (1577, 1.0), (1675, 0.5), (1689, 0.25), (1718, 0.3333333333333333), (1771, 2.0), (1777, 0.5), (1840, 0.5), (1914, 0.25), (1933, 0.5), (2084, 1.0), (2292, 0.5)]\n",
      "4.5\n",
      "0.577075825299 Scarlet Fever\n",
      "0.575384597873 The James Robert Dean\n",
      "0.574084771678 Hair Raiser\n",
      "0.571778681415 Pink Penocha\n",
      "0.568237161464 Lemonade Bomb\n",
      "0.567118211316 Witch's Clit\n",
      "0.564485562938 Null & Void Punch\n",
      "0.564485562938 Simpson Solution\n",
      "0.564317905406 Pink Panty Pulldowns #2\n",
      "0.564317905406 Homemade Kahlua\n"
     ]
    }
   ],
   "source": [
    "query1 = [\"Dark Creme de Cacao\", \"Scotch\", \"Milk\"]\n",
    "\n",
    "inv_idx = build_inverted_index(drinks_dict)\n",
    "idf = compute_idf(inv_idx, n_drinks)\n",
    "drink_norms = compute_drink_norms(inv_idx, n_drinks)\n",
    "results = index_search(query1, inv_idx, drink_norms)\n",
    "print(inv_idx[\"Dark Creme de Cacao\"])\n",
    "print(drink_norms[974])\n",
    "for res in results[:10]:\n",
    "    print (str(res[0]) + \" \" + res[1])\n",
    "##data = json.dumps(new_data_dict, indent=4, separators=(',', ': '))\n",
    "##with open(\"cossim_no_amts.json\", \"w\") as fw:\n",
    "##    fw.write(data)\n",
    "\n"
   ]
  },
  {
   "cell_type": "code",
   "execution_count": null,
   "metadata": {
    "collapsed": true
   },
   "outputs": [],
   "source": []
  },
  {
   "cell_type": "code",
   "execution_count": null,
   "metadata": {
    "collapsed": true
   },
   "outputs": [],
   "source": []
  },
  {
   "cell_type": "code",
   "execution_count": null,
   "metadata": {
    "collapsed": true
   },
   "outputs": [],
   "source": []
  }
 ],
 "metadata": {
  "kernelspec": {
   "display_name": "Python [Root]",
   "language": "python",
   "name": "Python [Root]"
  },
  "language_info": {
   "codemirror_mode": {
    "name": "ipython",
    "version": 2
   },
   "file_extension": ".py",
   "mimetype": "text/x-python",
   "name": "python",
   "nbconvert_exporter": "python",
   "pygments_lexer": "ipython2",
   "version": "2.7.12"
  }
 },
 "nbformat": 4,
 "nbformat_minor": 0
}
