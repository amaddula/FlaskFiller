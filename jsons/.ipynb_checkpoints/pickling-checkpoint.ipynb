{
 "cells": [
  {
   "cell_type": "code",
   "execution_count": 35,
   "metadata": {
    "collapsed": true
   },
   "outputs": [],
   "source": [
    "import json\n",
    "import pickle\n",
    "import numpy as np"
   ]
  },
  {
   "cell_type": "code",
   "execution_count": 70,
   "metadata": {
    "collapsed": false
   },
   "outputs": [],
   "source": [
    "# with open('ingredients.json', 'r') as fr:\n",
    "#     ingr_list = json.load(fr)\n",
    "    \n",
    "# with open('clean_data_revised_names.json', 'r') as fr:\n",
    "#     drink_list = json.load(fr)\n",
    "    \n",
    "#ingr_list = [x.lower().encode('ascii', 'ignore') for x in ingr_list]\n",
    "ingr_list = pickle.load( open(\"ingr_lst_pickle.p\", \"rb\" ))\n",
    "#drink_ingr = pickle.load( open( \"drink_ingr_pickle.p\", \"rb\" ))\n",
    "drink_list = pickle.load( open( \"drink_dic_pickle.p\", \"rb\" ))\n",
    "ingr_list = [x.lower().encode('ascii', 'ignore') for x in ingr_list]\n",
    "#print(ingr_list)\n",
    "#def create_ingr_array\n",
    "\n",
    "#ingr_nplst = np.array(ingr_list)\n",
    "#print(ingr_nplst)\n",
    "\n",
    "#print(drink_list)"
   ]
  },
  {
   "cell_type": "code",
   "execution_count": 71,
   "metadata": {
    "collapsed": false
   },
   "outputs": [],
   "source": [
    "#index = np.where(ingr_nplst=='Tang')\n",
    "#print(index)\n",
    "#print(drink_list)\n",
    "# drink_list_new = {}\n",
    "# for k,v in drink_list.items():\n",
    "#     drink_name = k.lower().encode('ascii', 'ignore')\n",
    "#     recipe = []\n",
    "#     for tup in v:\n",
    "#         ing_name = tup[0].lower().encode('ascii', 'ignore')\n",
    "#         ing_amt = tup[1].lower().encode('ascii', 'ignore')\n",
    "#         recipe.append([ing_name, ing_amt])\n",
    "#     drink_list_new[drink_name] = recipe\n",
    "# drink_list = drink_list_new"
   ]
  },
  {
   "cell_type": "code",
   "execution_count": null,
   "metadata": {
    "collapsed": true
   },
   "outputs": [],
   "source": []
  },
  {
   "cell_type": "code",
   "execution_count": 72,
   "metadata": {
    "collapsed": true
   },
   "outputs": [],
   "source": [
    "ingr_to_num = {}\n",
    "i=0\n",
    "for ingr in ingr_list:\n",
    "    ingr_to_num[ingr] = i\n",
    "    i=i+1"
   ]
  },
  {
   "cell_type": "code",
   "execution_count": 73,
   "metadata": {
    "collapsed": false
   },
   "outputs": [],
   "source": [
    "#print(ingr_dic)"
   ]
  },
  {
   "cell_type": "code",
   "execution_count": 74,
   "metadata": {
    "collapsed": false
   },
   "outputs": [],
   "source": [
    "drink_to_num = {}\n",
    "num_to_drink = {}\n",
    "j=0\n",
    "for k,v in drink_list.items():\n",
    "    drink_to_num[k] = j\n",
    "    num_to_drink[j] = k\n",
    "    j=j+1\n",
    "#print(num_to_drink)"
   ]
  },
  {
   "cell_type": "code",
   "execution_count": 75,
   "metadata": {
    "collapsed": false
   },
   "outputs": [
    {
     "name": "stdout",
     "output_type": "stream",
     "text": [
      "[[0. 0. 0. ... 0. 0. 0.]\n",
      " [0. 0. 0. ... 0. 0. 0.]\n",
      " [0. 0. 0. ... 0. 0. 0.]\n",
      " ...\n",
      " [0. 0. 0. ... 0. 0. 0.]\n",
      " [0. 0. 0. ... 0. 0. 0.]\n",
      " [0. 0. 0. ... 0. 0. 0.]]\n"
     ]
    }
   ],
   "source": [
    "#let's make the drink by ingredients numpy array, so we can eventually pickle it\n",
    "drink_ingr = np.zeros((len(drink_to_num), len(ingr_to_num)))\n",
    "for i in range(len(drink_to_num)):\n",
    "    curr_ingredients = drink_list[num_to_drink[i]]\n",
    "    #for j in range(len(ingr_to_num)):\n",
    "    for ingredient in curr_ingredients:\n",
    "        num_ingredient = ingr_to_num[ingredient[0].lower().encode('ascii', 'ignore')]\n",
    "        drink_ingr[i][num_ingredient] = 1\n",
    "print(drink_ingr)"
   ]
  },
  {
   "cell_type": "code",
   "execution_count": 76,
   "metadata": {
    "collapsed": true
   },
   "outputs": [],
   "source": [
    "def drink_to_index(dr):\n",
    "    return drink_to_num[dr]\n",
    "def index_to_drink(num):\n",
    "    return num_to_drink[num]\n",
    "    \n",
    "def ingredient_to_index(ingredient_str):\n",
    "    return ingr_to_num[ingredient_str.encode('ascii', 'ignore').lower()]\n",
    "def number_list_of_drinks(ing_str_lst):\n",
    "    newlst = []\n",
    "    for ingr in ing_str_lst:\n",
    "        newlst.append(ingredient_to_index(ingr))     \n",
    "    return newlst\n",
    "\n",
    "def get_ingredients_for_drink(drink_num, drink_lst):\n",
    "    #print(drink_num)\n",
    "    curr_ingredients = drink_lst[index_to_drink(drink_num)]\n",
    "    final = []\n",
    "    for ing in curr_ingredients:\n",
    "        final.append(ingredient_to_index(ing[0]))\n",
    "    return final\n",
    "\n",
    "#returns a numpy array of 1 by size of drink_list. each entry is the jaccard similarity between the user input and drink\n",
    "def drink_jaccard_sim(user_ingredients_lst, drink_lst):\n",
    "    final_mat = np.zeros(len(drink_lst))\n",
    "    #cat1 will be the user set. It should just have a list of numbers that correspond to drinks\n",
    "    cat1 = set(number_list_of_drinks(user_ingredients_lst))\n",
    "    for i in range(len(drink_lst)):\n",
    "        #cat2 will be the ingredients of each individual drink\n",
    "        cat2 = set(get_ingredients_for_drink(i, drink_lst))\n",
    "        #do the jaccard\n",
    "        intersect = len(set.intersection(cat1, cat2))\n",
    "        union = len(set.union(cat1, cat2))\n",
    "        final_mat[i] = intersect/(union+1)\n",
    "    return final_mat\n",
    "    "
   ]
  },
  {
   "cell_type": "code",
   "execution_count": 77,
   "metadata": {
    "collapsed": false
   },
   "outputs": [
    {
     "name": "stdout",
     "output_type": "stream",
     "text": [
      "[0.125 0.    0.1   ... 0.    0.    0.   ]\n"
     ]
    }
   ],
   "source": [
    "sample_ingredient_list = [\"Banana liqueur\",\n",
    "\"Banana rum\",\n",
    "\"Banana syrup\",\n",
    "\"Batida de Coco\",\n",
    "\"Battery\",\n",
    "\"Beef bouillon\",\n",
    "\"Beer\",\n",
    "\"Berries\",\n",
    "\"Bitter lemon\",\n",
    "\"Bitters\",\n",
    "\"Black Sambuca\",\n",
    "\"Black pepper\",\n",
    "\"Black rum\",\n",
    "\"Black vodka\",\n",
    "\"Blackberries\",\n",
    "\"Blackberry brandy\",\n",
    "\"Blackberry schnapps\",\n",
    "\"Blackcurrant cordial\",\n",
    "\"Blackcurrant schnapps\",\n",
    "\"Blackcurrant squash\",\n",
    "\"Blackcurrant vodka\",\n",
    "\"Blended whiskey\",\n",
    "\"Bloody mary mix\",\n",
    "\"Blue Curacao\",\n",
    "\"Blueberries\",\n",
    "\"Blueberry schnapps\"]\n",
    "\n",
    "sample_ingredient_list2 = ['vodka', 'sugar', 'orange']\n",
    "sample_ingredient_list3 = [\"Cherry\", \"Coconut\", \"Cognac\", \"Cranberry vodka\", \"Ice\", \"Lemon\", \"Strawberries\"]\n",
    "\n",
    "sim_lst = drink_jaccard_sim(sample_ingredient_list2, drink_list)\n",
    "print(sim_lst)"
   ]
  },
  {
   "cell_type": "code",
   "execution_count": 78,
   "metadata": {
    "collapsed": false
   },
   "outputs": [
    {
     "name": "stdout",
     "output_type": "stream",
     "text": [
      "[4148 3807 1234 5517 4675 3812 4255 4862 3888 5042]\n",
      "[('Caribbean Orange Liqueur', 0.75), ('Saurian Brandy', 0.6), ('Stockholm \"75\"', 0.5), ('Sjarsk', 0.4), ('Unknown Warrior', 0.4), ('Red Orange', 0.4), ('Body Shot', 0.4), ('Lemon Shooters', 0.4), ('The Power of Milk', 0.4), ('Piggelin #1', 0.4)]\n"
     ]
    }
   ],
   "source": [
    "def get_top_k_drinks(lst, k):\n",
    "    #lst should have a list of ranked values, just need to do an argsort for the best ones\n",
    "    sorted_lst = lst.argsort()[-k:][::-1]\n",
    "    print(sorted_lst)\n",
    "    top_drinks = []\n",
    "    for drink_num in sorted_lst:\n",
    "        #top_drinks.append(index_to_drink(drink))\n",
    "        top_drinks.append((index_to_drink(drink_num), lst[drink_num]))\n",
    "    return top_drinks\n",
    "\n",
    "thing = get_top_k_drinks(sim_lst, 10)\n",
    "print(thing)"
   ]
  },
  {
   "cell_type": "code",
   "execution_count": 46,
   "metadata": {
    "collapsed": true
   },
   "outputs": [],
   "source": [
    "#pickle.dump(ingr_list, open( \"ingr_lst_pickle.p\", \"wb\" ), protocol=2 )\n",
    "#pickle.dump(drink_ingr, open( \"drink_ingr_pickle.p\", \"wb\" ), protocol=2 )\n",
    "#pickle.dump(drink_list, open( \"drink_dic_pickle.p\", \"wb\" ), protocol=2 )"
   ]
  },
  {
   "cell_type": "code",
   "execution_count": 47,
   "metadata": {
    "collapsed": true
   },
   "outputs": [],
   "source": [
    "ingr_lst1 = pickle.load( open( \"ingr_lst_pickle.p\", \"rb\" ))"
   ]
  },
  {
   "cell_type": "code",
   "execution_count": 48,
   "metadata": {
    "collapsed": false
   },
   "outputs": [],
   "source": [
    "#print(ingr_lst1)"
   ]
  },
  {
   "cell_type": "code",
   "execution_count": 49,
   "metadata": {
    "collapsed": false
   },
   "outputs": [],
   "source": [
    "#print(ingr_to_num)\n",
    "#print(ingr_to_num[\"u'Cherry Heering'\"])"
   ]
  },
  {
   "cell_type": "code",
   "execution_count": 50,
   "metadata": {
    "collapsed": true
   },
   "outputs": [],
   "source": [
    "ingr_list = pickle.load( open(\"ingr_lst_pickle.p\", \"rb\" ))\n",
    "drink_ingr = pickle.load( open( \"drink_ingr_pickle.p\", \"rb\" ))\n",
    "drink_list = pickle.load( open( \"drink_dic_pickle.p\", \"rb\" ))\n",
    "ingr_list = [x.lower().encode('ascii', 'ignore') for x in ingr_list]"
   ]
  },
  {
   "cell_type": "code",
   "execution_count": 51,
   "metadata": {
    "collapsed": false
   },
   "outputs": [
    {
     "name": "stdout",
     "output_type": "stream",
     "text": [
      "[4134 3796 1327 4668  497 5510 3801 4243 4855 3871]\n",
      "[('Caribbean Orange Liqueur', 0.75), ('Saurian Brandy', 0.6), ('Stockholm \"75\"', 0.5), ('Unknown Warrior', 0.4), ('Top Banana', 0.4), ('Sjarsk', 0.4), ('Red Orange', 0.4), ('Body Shot', 0.4), ('Lemon Shooters', 0.4), ('The Power of Milk', 0.4)]\n"
     ]
    }
   ],
   "source": [
    "sim_lst = drink_jaccard_sim(sample_ingredient_list2, drink_list)\n",
    "thing2 = get_top_k_drinks(sim_lst, 10)\n",
    "print(thing2)"
   ]
  },
  {
   "cell_type": "code",
   "execution_count": 53,
   "metadata": {
    "collapsed": false
   },
   "outputs": [],
   "source": [
    "#print(drink_list)"
   ]
  },
  {
   "cell_type": "code",
   "execution_count": 54,
   "metadata": {
    "collapsed": true
   },
   "outputs": [],
   "source": [
    "with open('alcoholic_cocktails_webtender_mixing.json', 'r') as fr:\n",
    "    mixing_instructions = json.load(fr)"
   ]
  },
  {
   "cell_type": "code",
   "execution_count": 56,
   "metadata": {
    "collapsed": false
   },
   "outputs": [],
   "source": [
    "#print(mixing_instructions)"
   ]
  },
  {
   "cell_type": "code",
   "execution_count": 57,
   "metadata": {
    "collapsed": true
   },
   "outputs": [],
   "source": [
    "pickle.dump(mixing_instructions, open( \"mixing_instructions.p\", \"wb\" ), protocol=2 )"
   ]
  },
  {
   "cell_type": "code",
   "execution_count": null,
   "metadata": {
    "collapsed": true
   },
   "outputs": [],
   "source": []
  }
 ],
 "metadata": {
  "kernelspec": {
   "display_name": "venv",
   "language": "python",
   "name": "venv"
  },
  "language_info": {
   "codemirror_mode": {
    "name": "ipython",
    "version": 3
   },
   "file_extension": ".py",
   "mimetype": "text/x-python",
   "name": "python",
   "nbconvert_exporter": "python",
   "pygments_lexer": "ipython3",
   "version": "3.5.2"
  }
 },
 "nbformat": 4,
 "nbformat_minor": 0
}
